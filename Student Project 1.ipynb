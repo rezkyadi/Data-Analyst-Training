{
  "nbformat": 4,
  "nbformat_minor": 0,
  "metadata": {
    "colab": {
      "provenance": [],
      "authorship_tag": "ABX9TyMms3D8yne6QI9M6boaELK7",
      "include_colab_link": true
    },
    "kernelspec": {
      "name": "python3",
      "display_name": "Python 3"
    },
    "language_info": {
      "name": "python"
    }
  },
  "cells": [
    {
      "cell_type": "markdown",
      "metadata": {
        "id": "view-in-github",
        "colab_type": "text"
      },
      "source": [
        "<a href=\"https://colab.research.google.com/github/rezkyadi/Data-Analyst-Training/blob/main/Student%20Project%201.ipynb\" target=\"_parent\"><img src=\"https://colab.research.google.com/assets/colab-badge.svg\" alt=\"Open In Colab\"/></a>"
      ]
    },
    {
      "cell_type": "markdown",
      "source": [
        "**Student Project 1 - Salary Analysis**\n",
        "Tujuan : mengetahui hubungan lama pengalaman kerja dan jumlah gaji yang diterima.\n",
        "Dataset : Salary_dataset \n",
        "Methods : \n",
        "1. OLS (statsmodel)\n",
        "2. Bayesian Regression (sklearn)\n",
        "3. SVM Regression (sklearn)"
      ],
      "metadata": {
        "id": "iUljfeACiK0f"
      }
    },
    {
      "cell_type": "code",
      "source": [],
      "metadata": {
        "id": "tTH_yibciQ8O"
      },
      "execution_count": null,
      "outputs": []
    },
    {
      "cell_type": "code",
      "execution_count": null,
      "metadata": {
        "id": "99TnFmCah-Qp"
      },
      "outputs": [],
      "source": []
    }
  ]
}