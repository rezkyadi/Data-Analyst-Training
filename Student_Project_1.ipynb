{
  "nbformat": 4,
  "nbformat_minor": 0,
  "metadata": {
    "colab": {
      "provenance": [],
      "authorship_tag": "ABX9TyM2VmllNwfGJfZCVObayONp",
      "include_colab_link": true
    },
    "kernelspec": {
      "name": "python3",
      "display_name": "Python 3"
    },
    "language_info": {
      "name": "python"
    }
  },
  "cells": [
    {
      "cell_type": "markdown",
      "metadata": {
        "id": "view-in-github",
        "colab_type": "text"
      },
      "source": [
        "<a href=\"https://colab.research.google.com/github/rezkyadi/Data-Analyst-Training/blob/main/Student_Project_1.ipynb\" target=\"_parent\"><img src=\"https://colab.research.google.com/assets/colab-badge.svg\" alt=\"Open In Colab\"/></a>"
      ]
    },
    {
      "cell_type": "markdown",
      "source": [
        "**Student Project 1 - Salary Analysis**\n",
        "Tujuan : mengetahui hubungan lama pengalaman kerja dan jumlah gaji yang diterima.\n",
        "<br>- Dataset : Salary_dataset \n",
        "<br>- Methods : \n",
        "1. OLS (statsmodel)\n",
        "2. Bayesian Regression (sklearn)\n",
        "3. SVM Regression (sklearn)"
      ],
      "metadata": {
        "id": "iUljfeACiK0f"
      }
    },
    {
      "cell_type": "code",
      "source": [
        "import pandas as pd\n",
        "import numpy as np"
      ],
      "metadata": {
        "id": "tTH_yibciQ8O"
      },
      "execution_count": null,
      "outputs": []
    },
    {
      "cell_type": "code",
      "execution_count": null,
      "metadata": {
        "id": "99TnFmCah-Qp"
      },
      "outputs": [],
      "source": []
    }
  ]
}